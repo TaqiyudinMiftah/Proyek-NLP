{
 "cells": [
  {
   "cell_type": "code",
   "execution_count": null,
   "id": "d117c242",
   "metadata": {},
   "outputs": [],
   "source": [
    "# !pip install google-play-scraper"
   ]
  },
  {
   "cell_type": "code",
   "execution_count": 1,
   "id": "a53cc06f",
   "metadata": {},
   "outputs": [],
   "source": [
    "from google_play_scraper import app, reviews_all, Sort\n",
    "import csv"
   ]
  },
  {
   "cell_type": "code",
   "execution_count": 2,
   "id": "73ab92bb",
   "metadata": {},
   "outputs": [],
   "source": [
    "# Mengambil semua ulasan dari aplikasi dengan ID com.stockbit.android\n",
    "scrapreview = reviews_all(\n",
    "    'id.dana', lang='id', sort=Sort.MOST_RELEVANT, count=10000, country='id'\n",
    ")"
   ]
  },
  {
   "cell_type": "code",
   "execution_count": 3,
   "id": "07c58a70",
   "metadata": {},
   "outputs": [],
   "source": [
    "with open('ulasan_aplikasi_dana.csv', mode='w', newline='', encoding='utf-8') as file:\n",
    "    writer = csv.writer(file)\n",
    "    writer.writerow(['Review'])  # Menulis header kolom\n",
    "    for review in scrapreview:\n",
    "        writer.writerow([review['content']])"
   ]
  }
 ],
 "metadata": {
  "kernelspec": {
   "display_name": "Python 3",
   "language": "python",
   "name": "python3"
  },
  "language_info": {
   "codemirror_mode": {
    "name": "ipython",
    "version": 3
   },
   "file_extension": ".py",
   "mimetype": "text/x-python",
   "name": "python",
   "nbconvert_exporter": "python",
   "pygments_lexer": "ipython3",
   "version": "3.11.4"
  }
 },
 "nbformat": 4,
 "nbformat_minor": 5
}
